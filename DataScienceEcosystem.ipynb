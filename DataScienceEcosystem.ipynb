{
 "cells": [
  {
   "cell_type": "markdown",
   "id": "e156a69d",
   "metadata": {},
   "source": [
    "# Data Science Tools and Ecosystem"
   ]
  },
  {
   "cell_type": "markdown",
   "id": "1e8b44f1",
   "metadata": {},
   "source": [
    "In this notebook, Data Science Tools and Ecosystem are summarized."
   ]
  },
  {
   "cell_type": "markdown",
   "id": "c956ba83",
   "metadata": {},
   "source": [
    "**Objectives:**\n",
    "\n",
    "    - Open-source tools for data science.\n",
    "    - Some of the popular languages for Data science.\n",
    "    - Some of the commonly used libraries for Data science.\n",
    "    - Simple arithmetic expression "
   ]
  },
  {
   "cell_type": "markdown",
   "id": "4016ba21",
   "metadata": {},
   "source": [
    "Some of the popular languages that Data Scientists use are:\n",
    "\n",
    "    1. Python\n",
    "    2. R\n",
    "    3. Java\n",
    "    4. JavaScript\n",
    "    5. C/C++"
   ]
  },
  {
   "cell_type": "markdown",
   "id": "6e2ff49d",
   "metadata": {},
   "source": [
    "Some of the commonly used libraries used by Data Scientists include:\n",
    "\n",
    "    1. Matplotlib\n",
    "    2. Seaborn\n",
    "    3. Keras\n",
    "    4. Tensorflow\n",
    "    5. Pandas\n",
    "    6. Numpy\n",
    "\n",
    "    "
   ]
  },
  {
   "cell_type": "markdown",
   "id": "c3e8d7a6",
   "metadata": {},
   "source": [
    "| Data Science Tools |\n",
    "------------------------------\n",
    "| Open-Source tools |\n",
    "| MySQL |\n",
    "| MongoDB |\n",
    "| couchDB  |\n"
   ]
  },
  {
   "cell_type": "code",
   "execution_count": 1,
   "id": "eeaf7c6b",
   "metadata": {},
   "outputs": [
    {
     "data": {
      "text/plain": [
       "17"
      ]
     },
     "execution_count": 1,
     "metadata": {},
     "output_type": "execute_result"
    }
   ],
   "source": [
    "# This a simple arithmetic expression to mutiply then add integers\n",
    "(3*4)+5"
   ]
  },
  {
   "cell_type": "code",
   "execution_count": 2,
   "id": "16e4f3ac",
   "metadata": {},
   "outputs": [
    {
     "name": "stdout",
     "output_type": "stream",
     "text": [
      "3.3333333333333335\n"
     ]
    }
   ],
   "source": [
    "# This will convert 200 minutes to hours by diving by 60\n",
    "x =  200\n",
    "y =  60\n",
    "z =  x/y\n",
    "print(z)"
   ]
  },
  {
   "cell_type": "markdown",
   "id": "c05586a9",
   "metadata": {},
   "source": [
    "## Author\n",
    "Vu Tran Minh Nguyen"
   ]
  }
 ],
 "metadata": {
  "kernelspec": {
   "display_name": "Python 3 (ipykernel)",
   "language": "python",
   "name": "python3"
  },
  "language_info": {
   "codemirror_mode": {
    "name": "ipython",
    "version": 3
   },
   "file_extension": ".py",
   "mimetype": "text/x-python",
   "name": "python",
   "nbconvert_exporter": "python",
   "pygments_lexer": "ipython3",
   "version": "3.9.12"
  }
 },
 "nbformat": 4,
 "nbformat_minor": 5
}
